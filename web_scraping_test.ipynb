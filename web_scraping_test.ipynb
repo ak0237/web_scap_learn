{
  "nbformat": 4,
  "nbformat_minor": 0,
  "metadata": {
    "colab": {
      "provenance": []
    },
    "kernelspec": {
      "name": "python3",
      "display_name": "Python 3"
    },
    "language_info": {
      "name": "python"
    }
  },
  "cells": [
    {
      "cell_type": "markdown",
      "source": [
        "## Importando as bibliotecas"
      ],
      "metadata": {
        "id": "CuD1KxctIXsn"
      }
    },
    {
      "cell_type": "code",
      "execution_count": 10,
      "metadata": {
        "id": "_YTxLmJ2GLyH"
      },
      "outputs": [],
      "source": [
        "import requests\n",
        "from bs4 import BeautifulSoup as bs\n",
        "import re"
      ]
    },
    {
      "cell_type": "markdown",
      "source": [
        "## Carregando uma página"
      ],
      "metadata": {
        "id": "s4XlRmLbJKk6"
      }
    },
    {
      "cell_type": "code",
      "source": [
        "# Carregando uma webpage\n",
        "r = requests.get('https://keithgalli.github.io/web-scraping/example.html')\n",
        "\n",
        "#Convertendo para um objeto beautiful soup\n",
        "soup = bs(r.content)\n",
        "\n",
        "# Printando o html\n",
        "print(soup.prettify()) #.prettify() = melhora a visualização"
      ],
      "metadata": {
        "colab": {
          "base_uri": "https://localhost:8080/"
        },
        "id": "IgFHjRWQJJEC",
        "outputId": "cf34ab43-58b6-468e-8f8c-bb64688f8387"
      },
      "execution_count": 2,
      "outputs": [
        {
          "output_type": "stream",
          "name": "stdout",
          "text": [
            "<html>\n",
            " <head>\n",
            "  <title>\n",
            "   HTML Example\n",
            "  </title>\n",
            " </head>\n",
            " <body>\n",
            "  <div align=\"middle\">\n",
            "   <h1>\n",
            "    HTML Webpage\n",
            "   </h1>\n",
            "   <p>\n",
            "    Link to more interesting example:\n",
            "    <a href=\"https://keithgalli.github.io/web-scraping/webpage.html\">\n",
            "     keithgalli.github.io/web-scraping/webpage.html\n",
            "    </a>\n",
            "   </p>\n",
            "  </div>\n",
            "  <h2>\n",
            "   A Header\n",
            "  </h2>\n",
            "  <p>\n",
            "   <i>\n",
            "    Some italicized text\n",
            "   </i>\n",
            "  </p>\n",
            "  <h2>\n",
            "   Another header\n",
            "  </h2>\n",
            "  <p id=\"paragraph-id\">\n",
            "   <b>\n",
            "    Some bold text\n",
            "   </b>\n",
            "  </p>\n",
            " </body>\n",
            "</html>\n",
            "\n"
          ]
        }
      ]
    },
    {
      "cell_type": "markdown",
      "source": [
        "## Começando a utilzar BS para fazer o scrape"
      ],
      "metadata": {
        "id": "ObL1_-0MKGwX"
      }
    },
    {
      "cell_type": "markdown",
      "source": [
        "### find e find_all()"
      ],
      "metadata": {
        "id": "egAjmUghKSAf"
      }
    },
    {
      "cell_type": "code",
      "source": [
        "# Passando um elemento para a função\n",
        "\n",
        "first_header = soup.find('h2') # Retorna a primeira tag <h2>\n",
        "print(first_header)\n",
        "\n",
        "\n",
        "headers = soup.find_all('h2') # Retorna uma lista com todas as tags <h2>\n",
        "print(headers)"
      ],
      "metadata": {
        "colab": {
          "base_uri": "https://localhost:8080/"
        },
        "id": "3wOqE63PJv3t",
        "outputId": "a8a7fd69-d47e-4fef-ea3b-612f27c1d59b"
      },
      "execution_count": 6,
      "outputs": [
        {
          "output_type": "stream",
          "name": "stdout",
          "text": [
            "<h2>A Header</h2>\n",
            "[<h2>A Header</h2>, <h2>Another header</h2>]\n"
          ]
        }
      ]
    },
    {
      "cell_type": "code",
      "source": [
        "# Passando uma lista para a função\n",
        "\n",
        "first_header = soup.find(['h2', 'h1']) # Retorna a primeira tag <h2> ou <h1> que encontrar\n",
        "print(first_header)\n",
        "\n",
        "\n",
        "headers = soup.find_all(['h2', 'h1']) # Retorna uma lista com todas as tags <h2> e <h1> que encontrou\n",
        "print(headers)"
      ],
      "metadata": {
        "colab": {
          "base_uri": "https://localhost:8080/"
        },
        "id": "1zUV5OmNKl7B",
        "outputId": "037ac1eb-9131-472e-ec7e-9989fcc3c5ea"
      },
      "execution_count": 7,
      "outputs": [
        {
          "output_type": "stream",
          "name": "stdout",
          "text": [
            "<h1>HTML Webpage</h1>\n",
            "[<h1>HTML Webpage</h1>, <h2>A Header</h2>, <h2>Another header</h2>]\n"
          ]
        }
      ]
    },
    {
      "cell_type": "code",
      "source": [
        "# Passando atributos para find/find_all\n",
        "\n",
        "paragrafo = soup.find_all('p', attrs={'id': 'paragraph-id'})\n",
        "print(paragrafo)"
      ],
      "metadata": {
        "colab": {
          "base_uri": "https://localhost:8080/"
        },
        "id": "Nw8rLTdiLeNE",
        "outputId": "ee5486ca-4384-430c-d536-eea8833a55bb"
      },
      "execution_count": 8,
      "outputs": [
        {
          "output_type": "stream",
          "name": "stdout",
          "text": [
            "[<p id=\"paragraph-id\"><b>Some bold text</b></p>]\n"
          ]
        }
      ]
    },
    {
      "cell_type": "code",
      "source": [
        "# Fazendo busca aninhada\n",
        "\n",
        "body = soup.find('body') # Retorna o <body> do html\n",
        "div = body.find('div') # Retorna a primeira <div> do body\n",
        "header = div.find('h1') # Retorna o primeiro <h1> da div\n",
        "header"
      ],
      "metadata": {
        "colab": {
          "base_uri": "https://localhost:8080/"
        },
        "id": "wqQzou8qMaVq",
        "outputId": "3ca878df-95b1-4da3-b6dc-6233a847aa20"
      },
      "execution_count": 9,
      "outputs": [
        {
          "output_type": "execute_result",
          "data": {
            "text/plain": [
              "<h1>HTML Webpage</h1>"
            ]
          },
          "metadata": {},
          "execution_count": 9
        }
      ]
    },
    {
      "cell_type": "code",
      "source": [
        "# Procurando por strings específicas no html\n",
        "\n",
        "paragrafo = soup.find_all('p', string=re.compile('Some')) # Retorna todos as tags <p> que contenham a string 'Some' no texto\n",
        "paragrafo\n",
        "\n",
        "headers = soup.find_all('h2', string=re.compile('(H|h)eader')) # Retorna todos as tags <h2> que contenham a string 'Header' ou 'header' no texto\n",
        "headers"
      ],
      "metadata": {
        "colab": {
          "base_uri": "https://localhost:8080/"
        },
        "id": "PiVLITECNA8k",
        "outputId": "45cbd70e-c8d4-42e8-ec46-9558bb50ab90"
      },
      "execution_count": 13,
      "outputs": [
        {
          "output_type": "execute_result",
          "data": {
            "text/plain": [
              "[<h2>A Header</h2>, <h2>Another header</h2>]"
            ]
          },
          "metadata": {},
          "execution_count": 13
        }
      ]
    },
    {
      "cell_type": "markdown",
      "source": [
        "### select\n",
        "\n",
        "Seleciona como o selector do CSS"
      ],
      "metadata": {
        "id": "JitCylH3PXtI"
      }
    },
    {
      "cell_type": "code",
      "source": [
        "content = soup.select('p') # Retorna todas as tags <p>\n",
        "content"
      ],
      "metadata": {
        "colab": {
          "base_uri": "https://localhost:8080/"
        },
        "id": "pvh0MOCxNv5H",
        "outputId": "d2fa0c7d-1b19-46a3-9719-67292f6a7b4b"
      },
      "execution_count": 15,
      "outputs": [
        {
          "output_type": "execute_result",
          "data": {
            "text/plain": [
              "[<p>Link to more interesting example: <a href=\"https://keithgalli.github.io/web-scraping/webpage.html\">keithgalli.github.io/web-scraping/webpage.html</a></p>,\n",
              " <p><i>Some italicized text</i></p>,\n",
              " <p id=\"paragraph-id\"><b>Some bold text</b></p>]"
            ]
          },
          "metadata": {},
          "execution_count": 15
        }
      ]
    },
    {
      "cell_type": "code",
      "source": [
        "content = soup.select('div p') # Retorna todas as tags <p> que estão dentro de uma tag <div>\n",
        "content"
      ],
      "metadata": {
        "colab": {
          "base_uri": "https://localhost:8080/"
        },
        "id": "qvrtzSSISAY9",
        "outputId": "85246645-53ae-4620-ac15-960c65ad113f"
      },
      "execution_count": 16,
      "outputs": [
        {
          "output_type": "execute_result",
          "data": {
            "text/plain": [
              "[<p>Link to more interesting example: <a href=\"https://keithgalli.github.io/web-scraping/webpage.html\">keithgalli.github.io/web-scraping/webpage.html</a></p>]"
            ]
          },
          "metadata": {},
          "execution_count": 16
        }
      ]
    },
    {
      "cell_type": "code",
      "source": [
        "paragrafo = soup.select('h2 ~ p') # Seleciona todos as tags <p> irmãs de <h2>, que vêm depois de <h2> \"irmãs <p> mais novas\"\n",
        "paragrafo"
      ],
      "metadata": {
        "colab": {
          "base_uri": "https://localhost:8080/"
        },
        "id": "VexTww-OSO5V",
        "outputId": "999b9676-cc16-41d4-cf94-85201dd3c3cd"
      },
      "execution_count": 21,
      "outputs": [
        {
          "output_type": "execute_result",
          "data": {
            "text/plain": [
              "[<p><i>Some italicized text</i></p>,\n",
              " <p id=\"paragraph-id\"><b>Some bold text</b></p>]"
            ]
          },
          "metadata": {},
          "execution_count": 21
        }
      ]
    },
    {
      "cell_type": "code",
      "source": [
        "bold_text = soup.select('p#paragraph-id b') # Seleciona todos as tags <b> que estão dentro de uma tag <p> com id 'paragraph-id'\n",
        "bold_text"
      ],
      "metadata": {
        "colab": {
          "base_uri": "https://localhost:8080/"
        },
        "id": "lH_E9i8tTVwL",
        "outputId": "e10eadf0-234c-43f9-b553-b90257778abc"
      },
      "execution_count": 19,
      "outputs": [
        {
          "output_type": "execute_result",
          "data": {
            "text/plain": [
              "[<b>Some bold text</b>]"
            ]
          },
          "metadata": {},
          "execution_count": 19
        }
      ]
    },
    {
      "cell_type": "code",
      "source": [
        "paragrafo = soup.select('body > p') # Seleciona todos as tags <p> que são diretamente filhas de <body>,\n",
        "print(paragrafo)\n",
        "\n",
        "# Loop for que seleciona todas as tags <i> dentro de cada tag da lista paragrafo\n",
        "for i in paragrafo:\n",
        "    print(i.select('i'))"
      ],
      "metadata": {
        "colab": {
          "base_uri": "https://localhost:8080/"
        },
        "id": "kqwM7GX2T-x2",
        "outputId": "92ba986f-0503-480e-bffb-90897bd2134a"
      },
      "execution_count": 24,
      "outputs": [
        {
          "output_type": "stream",
          "name": "stdout",
          "text": [
            "[<p><i>Some italicized text</i></p>, <p id=\"paragraph-id\"><b>Some bold text</b></p>]\n",
            "[<i>Some italicized text</i>]\n",
            "[]\n"
          ]
        }
      ]
    },
    {
      "cell_type": "code",
      "source": [
        "# Selecionando um elemento com uma propriedade específica\n",
        "soup.select('[align=middle]')"
      ],
      "metadata": {
        "colab": {
          "base_uri": "https://localhost:8080/"
        },
        "id": "m299hVrMUgZZ",
        "outputId": "2e513be4-611c-4e60-b71b-32764a6ffa9a"
      },
      "execution_count": 25,
      "outputs": [
        {
          "output_type": "execute_result",
          "data": {
            "text/plain": [
              "[<div align=\"middle\">\n",
              " <h1>HTML Webpage</h1>\n",
              " <p>Link to more interesting example: <a href=\"https://keithgalli.github.io/web-scraping/webpage.html\">keithgalli.github.io/web-scraping/webpage.html</a></p>\n",
              " </div>]"
            ]
          },
          "metadata": {},
          "execution_count": 25
        }
      ]
    },
    {
      "cell_type": "markdown",
      "source": [
        "## Get propriedades diferente do HTML"
      ],
      "metadata": {
        "id": "IN3S6XecV5sw"
      }
    },
    {
      "cell_type": "code",
      "source": [
        "# .string para elementos com apenas 1 filho\n",
        "header = soup.find('h2')\n",
        "header.string # Retorna o texto dentro da tag\n",
        "\n",
        "# get_text() para elementos com mais de um filho\n",
        "div = soup.find('div')\n",
        "print(div.prettify())\n",
        "print(div.get_text()) # Retorna o texto dentro da tag"
      ],
      "metadata": {
        "colab": {
          "base_uri": "https://localhost:8080/"
        },
        "id": "9BAc2nW-VkL2",
        "outputId": "39263038-5315-452c-bb11-66594280368b"
      },
      "execution_count": 29,
      "outputs": [
        {
          "output_type": "stream",
          "name": "stdout",
          "text": [
            "<div align=\"middle\">\n",
            " <h1>\n",
            "  HTML Webpage\n",
            " </h1>\n",
            " <p>\n",
            "  Link to more interesting example:\n",
            "  <a href=\"https://keithgalli.github.io/web-scraping/webpage.html\">\n",
            "   keithgalli.github.io/web-scraping/webpage.html\n",
            "  </a>\n",
            " </p>\n",
            "</div>\n",
            "\n",
            "\n",
            "HTML Webpage\n",
            "Link to more interesting example: keithgalli.github.io/web-scraping/webpage.html\n",
            "\n"
          ]
        }
      ]
    },
    {
      "cell_type": "code",
      "source": [
        "# Pegando uma propriedade específica do elemento\n",
        "\n",
        "link = soup.find('a')\n",
        "print(link['href']) # Retorna o valor do atributo href do elemento <a>\n",
        "\n",
        "paragrafo = soup.select('p#paragraph-id')\n",
        "print(paragrafo[0]['id']) # Retorna o valor do atributo id do primeiro item da lista paragrafo"
      ],
      "metadata": {
        "colab": {
          "base_uri": "https://localhost:8080/"
        },
        "id": "dDS_AF3PWWCy",
        "outputId": "ed375f9c-743b-4465-aef9-311aba7afac1"
      },
      "execution_count": 32,
      "outputs": [
        {
          "output_type": "stream",
          "name": "stdout",
          "text": [
            "https://keithgalli.github.io/web-scraping/webpage.html\n",
            "paragraph-id\n"
          ]
        }
      ]
    },
    {
      "cell_type": "markdown",
      "source": [
        "## Navegação de código"
      ],
      "metadata": {
        "id": "-b61PrnkaGFc"
      }
    },
    {
      "cell_type": "code",
      "source": [
        "# Path syntax\n",
        "\n",
        "soup.body.div.h1.string # Usa a dot-notation para acessar os elemtentos do objeto soup"
      ],
      "metadata": {
        "colab": {
          "base_uri": "https://localhost:8080/",
          "height": 35
        },
        "id": "uBeiCoByXOal",
        "outputId": "c8d1f7f4-b408-4359-c0f8-afc2427fc700"
      },
      "execution_count": 35,
      "outputs": [
        {
          "output_type": "execute_result",
          "data": {
            "text/plain": [
              "'HTML Webpage'"
            ],
            "application/vnd.google.colaboratory.intrinsic+json": {
              "type": "string"
            }
          },
          "metadata": {},
          "execution_count": 35
        }
      ]
    },
    {
      "cell_type": "code",
      "source": [
        "soup.body.find('div').find_next_siblings() # Encontra os imãos 'mais novos' da primeira tag <div>"
      ],
      "metadata": {
        "colab": {
          "base_uri": "https://localhost:8080/"
        },
        "id": "s8DwhL3xaOBs",
        "outputId": "318a50e3-3196-4559-da63-334c156c57f4"
      },
      "execution_count": 38,
      "outputs": [
        {
          "output_type": "execute_result",
          "data": {
            "text/plain": [
              "[<h2>A Header</h2>,\n",
              " <p><i>Some italicized text</i></p>,\n",
              " <h2>Another header</h2>,\n",
              " <p id=\"paragraph-id\"><b>Some bold text</b></p>]"
            ]
          },
          "metadata": {},
          "execution_count": 38
        }
      ]
    },
    {
      "cell_type": "code",
      "source": [],
      "metadata": {
        "id": "gkJM7HHYcIaV"
      },
      "execution_count": null,
      "outputs": []
    }
  ]
}